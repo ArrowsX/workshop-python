{
 "cells": [
  {
   "cell_type": "markdown",
   "metadata": {
    "collapsed": true
   },
   "source": [
    "## Exercício 1"
   ]
  },
  {
   "cell_type": "code",
   "execution_count": null,
   "metadata": {
    "collapsed": true
   },
   "outputs": [],
   "source": [
    "import requests\n",
    "from bs4 import BeautifulSoup\n",
    "\n",
    "url = 'https://pixabay.com/pt/photos/'\n",
    "payload = {'q': 'gatinhos felizes'}\n",
    "\n",
    "r = requests.get(url, params=payload)\n",
    "soup = BeautifulSoup(r.content, 'html.parser')"
   ]
  },
  {
   "cell_type": "markdown",
   "metadata": {
    "collapsed": true
   },
   "source": [
    "## Exercício 2"
   ]
  },
  {
   "cell_type": "code",
   "execution_count": null,
   "metadata": {
    "collapsed": true
   },
   "outputs": [],
   "source": [
    "import shutil\n",
    "import requests\n",
    "from bs4 import BeautifulSoup\n",
    "\n",
    "url = 'https://pixabay.com/pt/photos/'\n",
    "payload = {'q': 'gatinhos felizes'}\n",
    "\n",
    "r = requests.get(url, params=payload)\n",
    "soup = BeautifulSoup(r.content, 'html.parser')\n",
    "\n",
    "divs = soup.find('div', {'class': 'flex_grid credits'}).contents[:5]\n",
    "for i, div in enumerate(divs):\n",
    "    img_url = div.a.img.get('src')\n",
    "    response = requests.get(img_url, stream=True)\n",
    "    \n",
    "    with open('%d.png' % i, 'wb') as f:\n",
    "        shutil.copyfileobj(response.raw, f)"
   ]
  },
  {
   "cell_type": "markdown",
   "metadata": {
    "collapsed": true
   },
   "source": [
    "## Exercício 3"
   ]
  },
  {
   "cell_type": "code",
   "execution_count": null,
   "metadata": {},
   "outputs": [],
   "source": [
    "import requests\n",
    "from bs4 import BeautifulSoup\n",
    "\n",
    "\n",
    "r = requests.get('http://mangapark.me')\n",
    "soup = BeautifulSoup(r.content, 'html.parser')\n",
    "\n",
    "divs = soup.find('div', {'class': 'bd ls1'}).contents[:10]\n",
    "elements = [div for div in divs if div != '\\n']\n",
    "for element in elements:\n",
    "    title = element.a.get('title')\n",
    "    last_episode = element.find('span').a.text\n",
    "    print(title, last_episode)"
   ]
  },
  {
   "cell_type": "markdown",
   "metadata": {},
   "source": [
    "## Exercício 4"
   ]
  },
  {
   "cell_type": "code",
   "execution_count": null,
   "metadata": {},
   "outputs": [],
   "source": [
    "import requests\n",
    "from bs4 import BeautifulSoup\n",
    "import youtube_dl\n",
    "\n",
    "url = 'https://www.youtube.com'\n",
    "payload = {\n",
    "    'search_query': 'shape of you',\n",
    "}\n",
    "\n",
    "r = requests.get(url+'/results', params=payload)\n",
    "soup = BeautifulSoup(r.content, 'html.parser')\n",
    "\n",
    "tag = soup.find('a', {'rel': 'spf-prefetch'})\n",
    "video_url = url + tag['href']\n",
    "\n",
    "ydl_opts = {}\n",
    "with youtube_dl.YoutubeDL(ydl_opts) as ydl:\n",
    "    ydl.download([video_url])"
   ]
  }
 ],
 "metadata": {
  "kernelspec": {
   "display_name": "Python 3",
   "language": "python",
   "name": "python3"
  },
  "language_info": {
   "codemirror_mode": {
    "name": "ipython",
    "version": 3
   },
   "file_extension": ".py",
   "mimetype": "text/x-python",
   "name": "python",
   "nbconvert_exporter": "python",
   "pygments_lexer": "ipython3",
   "version": "3.6.1"
  }
 },
 "nbformat": 4,
 "nbformat_minor": 2
}
